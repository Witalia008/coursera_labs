{
 "cells": [
  {
   "cell_type": "code",
   "execution_count": 1,
   "metadata": {
    "collapsed": false
   },
   "outputs": [],
   "source": [
    "import re\n",
    "\n",
    "def parse(line):\n",
    "    match = re.search(\"Dm=(\\d+)\", line)\n",
    "    if match:\n",
    "        return [int(match.group(1))]\n",
    "    return []"
   ]
  },
  {
   "cell_type": "code",
   "execution_count": 2,
   "metadata": {
    "collapsed": true
   },
   "outputs": [],
   "source": [
    "from pyspark.streaming import StreamingContext\n",
    "ssc = StreamingContext(sc, 1)"
   ]
  },
  {
   "cell_type": "code",
   "execution_count": 3,
   "metadata": {
    "collapsed": true
   },
   "outputs": [],
   "source": [
    "lines = ssc.socketTextStream(\"rtd.hpwren.ucsd.edu\", 12028)"
   ]
  },
  {
   "cell_type": "code",
   "execution_count": 4,
   "metadata": {
    "collapsed": true
   },
   "outputs": [],
   "source": [
    "vals = lines.flatMap(parse)"
   ]
  },
  {
   "cell_type": "code",
   "execution_count": 5,
   "metadata": {
    "collapsed": true
   },
   "outputs": [],
   "source": [
    "window = vals.window(10, 5)"
   ]
  },
  {
   "cell_type": "code",
   "execution_count": 6,
   "metadata": {
    "collapsed": false
   },
   "outputs": [],
   "source": [
    "def stats(rdd):\n",
    "    print(rdd.collect())\n",
    "    if rdd.count() > 0:\n",
    "        print(\"max = {}, min = {}\".format(rdd.max(), rdd.min()))"
   ]
  },
  {
   "cell_type": "code",
   "execution_count": 7,
   "metadata": {
    "collapsed": false
   },
   "outputs": [],
   "source": [
    "window.foreachRDD(stats)"
   ]
  },
  {
   "cell_type": "code",
   "execution_count": 8,
   "metadata": {
    "collapsed": false
   },
   "outputs": [
    {
     "name": "stdout",
     "output_type": "stream",
     "text": [
      "[297, 297, 297]\n",
      "max = 297, min = 297\n",
      "[297, 297, 297, 300, 302, 304, 305, 303]\n",
      "max = 305, min = 297\n",
      "[300, 302, 304, 305, 303, 302, 301, 299, 298, 297]\n",
      "max = 305, min = 297\n",
      "[302, 301, 299, 298, 297, 288, 286, 286, 301, 303]\n",
      "max = 303, min = 286\n",
      "[288, 286, 286, 301, 303, 303, 306, 308, 311, 296]\n",
      "max = 311, min = 286\n",
      "[303, 306, 308, 311, 296, 306, 308, 310, 298, 283]\n",
      "max = 311, min = 283\n",
      "[306, 308, 310, 298, 283, 286, 286, 287, 289, 289]\n",
      "max = 310, min = 283\n",
      "[286, 286, 287, 289, 289, 271, 257, 239, 235, 252]\n",
      "max = 289, min = 235\n",
      "[271, 257, 239, 235, 252, 253, 254, 254, 254, 254]\n",
      "max = 271, min = 235\n",
      "[253, 254, 254, 254, 254, 223, 232, 241, 242, 235]\n",
      "max = 254, min = 223\n",
      "[223, 232, 241, 242, 235, 225, 220, 232, 245, 253]\n",
      "max = 253, min = 220\n",
      "[225, 220, 232, 245, 253, 251, 257, 265, 251, 240]\n",
      "max = 265, min = 220\n",
      "[251, 257, 265, 251, 240, 247, 235, 228, 220, 220, 216]\n",
      "max = 265, min = 216\n",
      "[247, 235, 228, 220, 220, 216, 222, 204, 199, 215, 215]\n",
      "max = 247, min = 199\n",
      "[222, 204, 199, 215, 215, 213, 213, 207, 221, 219]\n",
      "max = 222, min = 199\n",
      "[213, 213, 207, 221, 219, 224, 235, 223, 207, 224]\n",
      "max = 235, min = 207\n",
      "[224, 235, 223, 207, 224, 212, 212, 212, 197, 208]\n",
      "max = 235, min = 197\n"
     ]
    }
   ],
   "source": [
    "ssc.start()"
   ]
  },
  {
   "cell_type": "code",
   "execution_count": 9,
   "metadata": {
    "collapsed": false
   },
   "outputs": [],
   "source": [
    "ssc.stop()"
   ]
  },
  {
   "cell_type": "code",
   "execution_count": null,
   "metadata": {
    "collapsed": true
   },
   "outputs": [],
   "source": []
  }
 ],
 "metadata": {
  "kernelspec": {
   "display_name": "Python 3",
   "language": "python",
   "name": "python3"
  },
  "language_info": {
   "codemirror_mode": {
    "name": "ipython",
    "version": 3
   },
   "file_extension": ".py",
   "mimetype": "text/x-python",
   "name": "python",
   "nbconvert_exporter": "python",
   "pygments_lexer": "ipython3",
   "version": "3.5.1"
  }
 },
 "nbformat": 4,
 "nbformat_minor": 0
}
